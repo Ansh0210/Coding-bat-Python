{
 "cells": [
  {
   "cell_type": "markdown",
   "metadata": {},
   "source": [
    "# first last 6\n",
    "Given an array of ints, return True if 6 appears as either the first or last element in the array. The array will be length 1 or more."
   ]
  },
  {
   "cell_type": "code",
   "execution_count": null,
   "metadata": {},
   "outputs": [],
   "source": [
    "def first_last6(nums):\n",
    "  if nums[0] == 6 or nums[-1] == 6:\n",
    "    return True\n",
    "  return False\n",
    "\n",
    "first_last6([1, 2, 6]) #→ True\n",
    "first_last6([6, 1, 2, 3]) #→ True\n",
    "first_last6([13, 6, 1, 2, 3]) #→ False"
   ]
  },
  {
   "cell_type": "markdown",
   "metadata": {},
   "source": [
    "# same first last\n",
    "Given an array of ints, return True if the array is length 1 or more, and the first element and the last element are equal."
   ]
  },
  {
   "cell_type": "code",
   "execution_count": null,
   "metadata": {},
   "outputs": [],
   "source": [
    "def same_first_last(nums):\n",
    "  return len(nums) >= 1 and nums[0] == nums[-1]\n",
    "\n",
    "same_first_last([1, 2, 3]) #→ False\n",
    "same_first_last([1, 2, 3, 1]) #→ True\n",
    "same_first_last([1, 2, 1]) #→ True\n"
   ]
  },
  {
   "cell_type": "markdown",
   "metadata": {},
   "source": [
    "# make pi\n",
    "Return an int array length 3 containing the first 3 digits of pi, {3, 1, 4}."
   ]
  },
  {
   "cell_type": "code",
   "execution_count": null,
   "metadata": {},
   "outputs": [],
   "source": [
    "def make_pi():\n",
    "  return [3, 1, 4]\n",
    "\n",
    "make_pi() #→ [3, 1, 4]"
   ]
  },
  {
   "cell_type": "markdown",
   "metadata": {},
   "source": [
    "# common end\n",
    "Given 2 arrays of ints, a and b, return True if they have the same first element or they have the same last element. Both arrays will be length 1 or more."
   ]
  },
  {
   "cell_type": "code",
   "execution_count": null,
   "metadata": {},
   "outputs": [],
   "source": [
    "def common_end(a, b):\n",
    "  return a[0] == b[0] or a[-1] == b[-1]\n",
    "\n",
    "common_end([1, 2, 3], [7, 3]) #→ True\n",
    "common_end([1, 2, 3], [7, 3, 2]) #→ False\n",
    "common_end([1, 2, 3], [1, 3]) #→ True\n"
   ]
  },
  {
   "cell_type": "markdown",
   "metadata": {},
   "source": [
    "# sum3\n",
    "Given an array of ints length 3, return the sum of all the elements."
   ]
  },
  {
   "cell_type": "code",
   "execution_count": null,
   "metadata": {},
   "outputs": [],
   "source": [
    "def sum3(nums):\n",
    "  return sum(nums)\n",
    "\n",
    "sum3([1, 2, 3]) #→ 6\n",
    "sum3([5, 11, 2]) #→ 18\n",
    "sum3([7, 0, 0]) #→ 7\n"
   ]
  },
  {
   "cell_type": "markdown",
   "metadata": {},
   "source": [
    "# rotate left3\n",
    "Given an array of ints length 3, return an array with the elements \"rotated left\" so {1, 2, 3} yields {2, 3, 1}.\n"
   ]
  },
  {
   "cell_type": "code",
   "execution_count": null,
   "metadata": {},
   "outputs": [],
   "source": [
    "def rotate_left3(nums):\n",
    "  \n",
    "  return [nums[1], nums[2], nums[0]]\n",
    "\n",
    "rotate_left3([1, 2, 3]) #→ [2, 3, 1]\n",
    "rotate_left3([5, 11, 9]) #→ [11, 9, 5]\n",
    "rotate_left3([7, 0, 0]) #→ [0, 0, 7]"
   ]
  },
  {
   "cell_type": "markdown",
   "metadata": {},
   "source": [
    "# reverse3\n",
    "Given an array of ints length 3, return a new array with the elements in reverse order, so {1, 2, 3} becomes {3, 2, 1}."
   ]
  },
  {
   "cell_type": "code",
   "execution_count": null,
   "metadata": {},
   "outputs": [],
   "source": [
    "def reverse3(nums):\n",
    "  \n",
    "  return nums[::-1]\n",
    "\n",
    "reverse3([1, 2, 3]) #→ [3, 2, 1]\n",
    "reverse3([5, 11, 9]) #→ [9, 11, 5]\n",
    "reverse3([7, 0, 0]) #→ [0, 0, 7]"
   ]
  },
  {
   "cell_type": "markdown",
   "metadata": {},
   "source": [
    "# max end3\n",
    "Given an array of ints length 3, figure out which is larger, the first or last element in the array, and set all the other elements to be that value. Return the changed array.\n",
    "\n"
   ]
  },
  {
   "cell_type": "code",
   "execution_count": null,
   "metadata": {},
   "outputs": [],
   "source": [
    "def max_end3(nums):\n",
    "  \n",
    "  max_nums = max(nums[0], nums[-1])\n",
    "  \n",
    "  nums = [max_nums, max_nums, max_nums]\n",
    "  \n",
    "  return nums\n",
    "  \n",
    "max_end3([1, 2, 3]) #→ [3, 3, 3]\n",
    "max_end3([11, 5, 9]) #→ [11, 11, 11]\n",
    "max_end3([2, 11, 3]) #→ [3, 3, 3]"
   ]
  },
  {
   "cell_type": "markdown",
   "metadata": {},
   "source": [
    "# sum2\n",
    "Given an array of ints, return the sum of the first 2 elements in the array. If the array length is less than 2, just sum up the elements that exist, returning 0 if the array is length 0."
   ]
  },
  {
   "cell_type": "code",
   "execution_count": null,
   "metadata": {},
   "outputs": [],
   "source": [
    "def sum2(nums):\n",
    "  if len(nums) < 2: \n",
    "    return sum(nums)\n",
    "    \n",
    "  return nums[0] + nums[1]\n",
    "\n",
    "sum2([1, 2, 3]) #→ 3\n",
    "sum2([1, 1]) #→ 2\n",
    "sum2([1, 1, 1, 1]) #→ 2"
   ]
  },
  {
   "cell_type": "markdown",
   "metadata": {},
   "source": [
    "# middle way\n",
    "Given 2 int arrays, a and b, each length 3, return a new array length 2 containing their middle elements.\n",
    "\n"
   ]
  },
  {
   "cell_type": "code",
   "execution_count": null,
   "metadata": {},
   "outputs": [],
   "source": [
    "def middle_way(a, b):\n",
    "  return [a[1], b[1]]\n",
    "\n",
    "middle_way([1, 2, 3], [4, 5, 6]) #→ [2, 5]\n",
    "middle_way([7, 7, 7], [3, 8, 0]) #→ [7, 8]\n",
    "middle_way([5, 2, 9], [1, 4, 5]) #→ [2, 4]"
   ]
  },
  {
   "cell_type": "markdown",
   "metadata": {},
   "source": [
    "# make ends\n",
    "Given an array of ints, return a new array length 2 containing the first and last elements from the original array. The original array will be length 1 or more.\n",
    "\n"
   ]
  },
  {
   "cell_type": "code",
   "execution_count": null,
   "metadata": {},
   "outputs": [],
   "source": [
    "def make_ends(nums):\n",
    "  return [nums[0], nums[-1]] \n",
    "\n",
    "make_ends([1, 2, 3]) #→ [1, 3]\n",
    "make_ends([1, 2, 3, 4]) #→ [1, 4]\n",
    "make_ends([7, 4, 6, 2]) #→ [7, 2]"
   ]
  },
  {
   "cell_type": "markdown",
   "metadata": {},
   "source": [
    "# has23\n",
    "Given an int array length 2, return True if it contains a 2 or a 3."
   ]
  },
  {
   "cell_type": "code",
   "execution_count": null,
   "metadata": {},
   "outputs": [],
   "source": [
    "def has23(nums):\n",
    "  return True if 2 in nums or 3 in nums else False\n",
    "\n",
    "has23([2, 5]) #→ True\n",
    "has23([4, 3]) #→ True\n",
    "has23([4, 5]) #→ False"
   ]
  }
 ],
 "metadata": {
  "language_info": {
   "name": "python"
  }
 },
 "nbformat": 4,
 "nbformat_minor": 2
}
