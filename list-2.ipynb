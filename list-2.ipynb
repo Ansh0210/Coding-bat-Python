{
 "cells": [
  {
   "cell_type": "markdown",
   "metadata": {},
   "source": [
    "# count evens\n",
    "Return the number of even ints in the given array. Note: the % \"mod\" operator computes the remainder, e.g. 5 % 2 is 1.\n",
    "\n"
   ]
  },
  {
   "cell_type": "code",
   "execution_count": null,
   "metadata": {},
   "outputs": [],
   "source": [
    "def count_evens(nums):\n",
    "  \n",
    "  count = 0\n",
    "  \n",
    "  for i in nums:\n",
    "    if i%2 == 0:\n",
    "      count += 1\n",
    "      \n",
    "  return count\n",
    "\n",
    "count_evens([2, 1, 2, 3, 4]) #→ 3\n",
    "count_evens([2, 2, 0]) #→ 3\n",
    "count_evens([1, 3, 5]) #→ 0"
   ]
  },
  {
   "cell_type": "markdown",
   "metadata": {},
   "source": [
    "# big diff\n",
    "Given an array length 1 or more of ints, return the difference between the largest and smallest values in the array. Note: the built-in min(v1, v2) and max(v1, v2) functions return the smaller or larger of two values."
   ]
  },
  {
   "cell_type": "code",
   "execution_count": null,
   "metadata": {},
   "outputs": [],
   "source": [
    "def big_diff(nums):\n",
    "  \n",
    "  maxim = nums[0]\n",
    "  minim = nums[0]\n",
    "  \n",
    "  for num in nums[1:]:\n",
    "    if num > maxim:\n",
    "      maxim = num\n",
    "    elif num < minim:\n",
    "      minim = num\n",
    "      \n",
    "  return maxim - minim\n",
    "\n",
    "big_diff([10, 3, 5, 6]) #→ 7\n",
    "big_diff([7, 2, 10, 9]) #→ 8\n",
    "big_diff([2, 10, 7, 2]) #→ 8"
   ]
  },
  {
   "cell_type": "markdown",
   "metadata": {},
   "source": [
    "# centered average\n",
    "Return the \"centered\" average of an array of ints, which we'll say is the mean average of the values, except ignoring the largest and smallest values in the array. If there are multiple copies of the smallest value, ignore just one copy, and likewise for the largest value. Use int division to produce the final average. You may assume that the array is length 3 or more.\n",
    "\n"
   ]
  },
  {
   "cell_type": "code",
   "execution_count": null,
   "metadata": {},
   "outputs": [],
   "source": [
    "def centered_average(nums):\n",
    "  \n",
    "  nums.sort()\n",
    "  \n",
    "  result = sum(nums[1:-1]) // (len(nums) -2)\n",
    "  \n",
    "  return result\n",
    "\n",
    "centered_average([1, 2, 3, 4, 100]) #→ 3\n",
    "centered_average([1, 1, 5, 5, 10, 8, 7]) #→ 5\n",
    "centered_average([-10, -4, -2, -4, -2, 0]) #→ -3"
   ]
  },
  {
   "cell_type": "markdown",
   "metadata": {},
   "source": [
    "# sum13\n",
    "Return the sum of the numbers in the array, returning 0 for an empty array. Except the number 13 is very unlucky, so it does not count and numbers that come immediately after a 13 also do not count.\n",
    "\n"
   ]
  },
  {
   "cell_type": "code",
   "execution_count": null,
   "metadata": {},
   "outputs": [],
   "source": [
    "def sum13(nums):\n",
    "  \n",
    "  if not nums:\n",
    "    return 0\n",
    "    \n",
    "  sum = 0\n",
    "  flag_13 = False\n",
    "  \n",
    "  for i in nums:\n",
    "    if i == 13:\n",
    "      flag_13 = True\n",
    "    elif flag_13:\n",
    "      flag_13 = False\n",
    "    else:\n",
    "      sum += i\n",
    "    \n",
    "  return sum\n",
    "\n",
    "sum13([1, 2, 2, 1]) #→ 6\n",
    "sum13([1, 1]) #→ 2\n",
    "sum13([1, 2, 2, 1, 13]) #→ 6"
   ]
  },
  {
   "cell_type": "markdown",
   "metadata": {},
   "source": [
    "# sum 67\n",
    "Return the sum of the numbers in the array, except ignore sections of numbers starting with a 6 and extending to the next 7 (every 6 will be followed by at least one 7). Return 0 for no numbers.\n",
    "\n"
   ]
  },
  {
   "cell_type": "code",
   "execution_count": null,
   "metadata": {},
   "outputs": [],
   "source": [
    "def sum67(nums):\n",
    "  \n",
    "  sum = 0\n",
    "  skip = False  # Flag to skip numbers between 6 and 7\n",
    "    \n",
    "  for num in nums:\n",
    "    if num == 6:\n",
    "        skip = True  # Start skipping numbers\n",
    "    elif num == 7 and skip:\n",
    "        skip = False  # Stop skipping numbers\n",
    "    elif not skip:\n",
    "        sum += num  # Sum the number if not in skip mode\n",
    "        \n",
    "  return sum\n",
    "\n",
    "sum67([1, 2, 2]) #→ 5\n",
    "sum67([1, 2, 2, 6, 99, 99, 7]) #→ 5\n",
    "sum67([1, 1, 6, 7, 2]) #→ 4\n"
   ]
  },
  {
   "cell_type": "markdown",
   "metadata": {},
   "source": [
    "# has22\n",
    "Given an array of ints, return True if the array contains a 2 next to a 2 somewhere.\n",
    "\n"
   ]
  },
  {
   "cell_type": "code",
   "execution_count": null,
   "metadata": {},
   "outputs": [],
   "source": [
    "def has22(nums):\n",
    "  \n",
    "  for i in range(len(nums)-1):\n",
    "    if nums[i] == 2 and nums[i+1] == 2:\n",
    "      return True\n",
    "  \n",
    "  return False\n",
    "\n",
    "has22([1, 2, 2]) #→ True\n",
    "has22([1, 2, 1, 2]) #→ False\n",
    "has22([2, 1, 2]) #→ False"
   ]
  }
 ],
 "metadata": {
  "language_info": {
   "name": "python"
  }
 },
 "nbformat": 4,
 "nbformat_minor": 2
}
