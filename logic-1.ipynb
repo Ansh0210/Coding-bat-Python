{
 "cells": [
  {
   "cell_type": "markdown",
   "metadata": {},
   "source": [
    "# cigar party\n",
    "When squirrels get together for a party, they like to have cigars. A squirrel party is successful when the number of cigars is between 40 and 60, inclusive. Unless it is the weekend, in which case there is no upper bound on the number of cigars. Return True if the party with the given values is successful, or False otherwise."
   ]
  },
  {
   "cell_type": "code",
   "execution_count": null,
   "metadata": {},
   "outputs": [],
   "source": [
    "def cigar_party(cigars, is_weekend):\n",
    "  if is_weekend and cigars >= 40:\n",
    "    return True\n",
    "  elif not is_weekend and 40<= cigars <= 60:\n",
    "    return True\n",
    "  return False\n",
    "\n",
    "cigar_party(30, False) \n",
    "cigar_party(50, False) \n",
    "cigar_party(70, True) "
   ]
  },
  {
   "cell_type": "markdown",
   "metadata": {},
   "source": [
    "# date fashion\n",
    "You and your date are trying to get a table at a restaurant. The parameter \"you\" is the stylishness of your clothes, in the range 0..10, and \"date\" is the stylishness of your date's clothes. The result getting the table is encoded as an int value with 0=no, 1=maybe, 2=yes. If either of you is very stylish, 8 or more, then the result is 2 (yes). With the exception that if either of you has style of 2 or less, then the result is 0 (no). Otherwise the result is 1 (maybe)."
   ]
  },
  {
   "cell_type": "code",
   "execution_count": null,
   "metadata": {},
   "outputs": [],
   "source": [
    "def date_fashion(you, date):\n",
    "  if you <= 2 or date <= 2:\n",
    "    return 0\n",
    "  elif you >= 8 or date >= 8:\n",
    "    return 2\n",
    "  else:\n",
    "    return 1\n",
    "\n",
    "date_fashion(5, 10) #→ 2\n",
    "date_fashion(5, 2) #→ 0\n",
    "date_fashion(5, 5) #→ 1"
   ]
  },
  {
   "cell_type": "markdown",
   "metadata": {},
   "source": [
    "# squirrel play\n",
    "The squirrels in Palo Alto spend most of the day playing. In particular, they play if the temperature is between 60 and 90 (inclusive). Unless it is summer, then the upper limit is 100 instead of 90. Given an int temperature and a boolean is_summer, return True if the squirrels play and False otherwise."
   ]
  },
  {
   "cell_type": "code",
   "execution_count": null,
   "metadata": {},
   "outputs": [],
   "source": [
    "def squirrel_play(temp, is_summer):\n",
    "  if is_summer:\n",
    "    return 60 <= temp <= 100\n",
    "  else:\n",
    "    return 60 <= temp <= 90\n",
    "\n",
    "squirrel_play(70, False) #→ True\n",
    "squirrel_play(95, False) #→ False\n",
    "squirrel_play(95, True) #→ True\n"
   ]
  },
  {
   "cell_type": "markdown",
   "metadata": {},
   "source": [
    "# caught speeding\n",
    "You are driving a little too fast, and a police officer stops you. Write code to compute the result, encoded as an int value: 0=no ticket, 1=small ticket, 2=big ticket. If speed is 60 or less, the result is 0. If speed is between 61 and 80 inclusive, the result is 1. If speed is 81 or more, the result is 2. Unless it is your birthday -- on that day, your speed can be 5 higher in all cases."
   ]
  },
  {
   "cell_type": "code",
   "execution_count": null,
   "metadata": {},
   "outputs": [],
   "source": [
    "def caught_speeding(speed, is_birthday):\n",
    "  if is_birthday:\n",
    "    if 61+5 <= speed <= 80+5:\n",
    "      return 1\n",
    "    if speed <= 60+5:\n",
    "      return 0\n",
    "    if speed > 81+5:\n",
    "      return 2\n",
    "  else:\n",
    "    if 61 <= speed <= 80:\n",
    "      return 1\n",
    "    if speed <= 60:\n",
    "      return 0\n",
    "    if speed > 81:\n",
    "      return 2\n",
    "  \n",
    "caught_speeding(60, False) #→ 0\n",
    "caught_speeding(65, False) #→ 1\n",
    "caught_speeding(65, True) #→ 0"
   ]
  },
  {
   "cell_type": "markdown",
   "metadata": {},
   "source": [
    "# sorta sum\n",
    "Given 2 ints, a and b, return their sum. However, sums in the range 10..19 inclusive, are forbidden, so in that case just return 20."
   ]
  },
  {
   "cell_type": "code",
   "execution_count": null,
   "metadata": {},
   "outputs": [],
   "source": [
    "def sorta_sum(a, b):\n",
    "  res = a + b\n",
    "  if 10 <= res <= 19:\n",
    "    return 20\n",
    "  return res\n",
    "\n",
    "sorta_sum(3, 4) #→ 7\n",
    "sorta_sum(9, 4) #→ 20\n",
    "sorta_sum(10, 11) #→ 21"
   ]
  },
  {
   "cell_type": "markdown",
   "metadata": {},
   "source": [
    "# alarm clock\n",
    "Given a day of the week encoded as 0=Sun, 1=Mon, 2=Tue, ...6=Sat, and a boolean indicating if we are on vacation, return a string of the form \"7:00\" indicating when the alarm clock should ring. Weekdays, the alarm should be \"7:00\" and on the weekend it should be \"10:00\". Unless we are on vacation -- then on weekdays it should be \"10:00\" and weekends it should be \"off\"."
   ]
  },
  {
   "cell_type": "code",
   "execution_count": null,
   "metadata": {},
   "outputs": [],
   "source": [
    "def alarm_clock(day, vacation):\n",
    "  if vacation:\n",
    "    if 1<= day <= 5:\n",
    "      return \"10:00\"\n",
    "    else:\n",
    "      return \"off\"\n",
    "  else:\n",
    "    if 1<= day <= 5:\n",
    "      return \"7:00\"\n",
    "    else:\n",
    "      return \"10:00\"\n",
    "\n",
    "alarm_clock(1, False) #→ '7:00'\n",
    "alarm_clock(5, False) #→ '7:00'\n",
    "alarm_clock(0, False) #→ '10:00'\n"
   ]
  },
  {
   "cell_type": "markdown",
   "metadata": {},
   "source": [
    "# love 6\n",
    "The number 6 is a truly great number. Given two int values, a and b, return True if either one is 6. Or if their sum or difference is 6. Note: the function abs(num) computes the absolute value of a number."
   ]
  },
  {
   "cell_type": "code",
   "execution_count": null,
   "metadata": {},
   "outputs": [],
   "source": [
    "def love6(a, b):\n",
    "  if a == 6 or b == 6:\n",
    "    return True\n",
    "  elif (a+b) == 6 or abs(a-b) == 6:\n",
    "    return True\n",
    "  else:\n",
    "    return False\n",
    "\n",
    "love6(6, 4) #→ True\n",
    "love6(4, 5) #→ False\n",
    "love6(1, 5) #→ True"
   ]
  },
  {
   "cell_type": "markdown",
   "metadata": {},
   "source": [
    "# in1 to 10\n",
    "Given a number n, return True if n is in the range 1..10, inclusive. Unless outside_mode is True, in which case return True if the number is less or equal to 1, or greater or equal to 10."
   ]
  },
  {
   "cell_type": "code",
   "execution_count": null,
   "metadata": {},
   "outputs": [],
   "source": [
    "def in1to10(n, outside_mode):\n",
    "  if outside_mode:\n",
    "    return n <= 1 or n >= 10\n",
    "  else:\n",
    "    return 1 <= n <= 10\n",
    "\n",
    "in1to10(5, False) #→ True\n",
    "in1to10(11, False) #→ False\n",
    "in1to10(11, True) #→ True"
   ]
  },
  {
   "cell_type": "markdown",
   "metadata": {},
   "source": [
    "# near ten\n",
    "Given a non-negative number \"num\", return True if num is within 2 of a multiple of 10. Note: (a % b) is the remainder of dividing a by b, so (7 % 5) is 2."
   ]
  },
  {
   "cell_type": "code",
   "execution_count": null,
   "metadata": {},
   "outputs": [],
   "source": [
    "def near_ten(num):\n",
    "  remainder = num%10\n",
    "  return remainder >= 8 or remainder <= 2\n",
    "\n",
    "near_ten(12) #→ True\n",
    "near_ten(17) #→ False\n",
    "near_ten(19) #→ True"
   ]
  }
 ],
 "metadata": {
  "language_info": {
   "name": "python"
  }
 },
 "nbformat": 4,
 "nbformat_minor": 2
}
