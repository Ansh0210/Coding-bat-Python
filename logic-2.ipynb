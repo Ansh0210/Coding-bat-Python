{
 "cells": [
  {
   "cell_type": "markdown",
   "metadata": {},
   "source": [
    "# make bricks\n",
    "We want to make a row of bricks that is goal inches long. We have a number of small bricks (1 inch each) and big bricks (5 inches each). Return True if it is possible to make the goal by choosing from the given bricks. This is a little harder than it looks and can be done without any loops."
   ]
  },
  {
   "cell_type": "code",
   "execution_count": null,
   "metadata": {},
   "outputs": [],
   "source": [
    "def make_bricks(small, big, goal):\n",
    "  \n",
    "  # check to see if goal is bigger than num of bricks\n",
    "  if small + (big*5) < goal:\n",
    "    return False\n",
    "  \n",
    "  # check to see how many small bricks will be needed  \n",
    "  if goal % 5 > small:\n",
    "    return False\n",
    "  \n",
    "  # otherwise return True  \n",
    "  return True\n",
    "\n",
    "make_bricks(3, 1, 8) #→ True\n",
    "make_bricks(3, 1, 9) #→ False\n",
    "make_bricks(3, 2, 10) #→ True"
   ]
  },
  {
   "cell_type": "markdown",
   "metadata": {},
   "source": [
    "# lone sum\n",
    "Given 3 int values, a b c, return their sum. However, if one of the values is the same as another of the values, it does not count towards the sum.\n",
    "\n"
   ]
  },
  {
   "cell_type": "code",
   "execution_count": null,
   "metadata": {},
   "outputs": [],
   "source": [
    "def lone_sum(a, b, c):\n",
    "  \n",
    "  if a == b and b == c and c == a:\n",
    "    return 0\n",
    "  \n",
    "  if a == b:\n",
    "    return c\n",
    "  \n",
    "  if a == c:\n",
    "    return b\n",
    "    \n",
    "  if b == c:\n",
    "    return a\n",
    "  \n",
    "  return a + b + c\n",
    "\n",
    "lone_sum(1, 2, 3) #→ 6\n",
    "lone_sum(3, 2, 3) #→ 2\n",
    "lone_sum(3, 3, 3) #→ 0"
   ]
  },
  {
   "cell_type": "markdown",
   "metadata": {},
   "source": [
    "# lucky sum\n",
    "Given 3 int values, a b c, return their sum. However, if one of the values is 13 then it does not count towards the sum and values to its right do not count. So for example, if b is 13, then both b and c do not count.\n",
    "\n"
   ]
  },
  {
   "cell_type": "code",
   "execution_count": null,
   "metadata": {},
   "outputs": [],
   "source": [
    "def lucky_sum(a, b, c):\n",
    "  \n",
    "  sum = 0\n",
    "  \n",
    "  for i in (a, b, c):\n",
    "    if i!= 13:\n",
    "      sum += i\n",
    "    else:\n",
    "      break\n",
    "\n",
    "  return sum\n",
    "\n",
    "lucky_sum(1, 2, 3) #→ 6\n",
    "lucky_sum(1, 2, 13) #→ 3\n",
    "lucky_sum(1, 13, 3) #→ 1"
   ]
  },
  {
   "cell_type": "markdown",
   "metadata": {},
   "source": [
    "# no teen sum\n",
    "Given 3 int values, a b c, return their sum. However, if any of the values is a teen -- in the range 13..19 inclusive -- then that value counts as 0, except 15 and 16 do not count as a teens. Write a separate helper \"def fix_teen(n):\"that takes in an int value and returns that value fixed for the teen rule. In this way, you avoid repeating the teen code 3 times (i.e. \"decomposition\"). Define the helper below and at the same indent level as the main no_teen_sum()."
   ]
  },
  {
   "cell_type": "code",
   "execution_count": null,
   "metadata": {},
   "outputs": [],
   "source": [
    "def no_teen_sum(a, b, c):\n",
    "  return fix_teen(a) + fix_teen(b) + fix_teen(c)\n",
    "\n",
    "def fix_teen(n):\n",
    "  \n",
    "  if n in range(13, 20):\n",
    "    if n == 15:\n",
    "      return n\n",
    "    elif n == 16:\n",
    "      return n\n",
    "    else:\n",
    "      return 0\n",
    "      \n",
    "  return n\n",
    "\n",
    "no_teen_sum(1, 2, 3) #→ 6\n",
    "no_teen_sum(2, 13, 1) #→ 3\n",
    "no_teen_sum(2, 1, 14) #→ 3"
   ]
  },
  {
   "cell_type": "markdown",
   "metadata": {},
   "source": [
    "# round sum\n",
    "For this problem, we'll round an int value up to the next multiple of 10 if its rightmost digit is 5 or more, so 15 rounds up to 20. Alternately, round down to the previous multiple of 10 if its rightmost digit is less than 5, so 12 rounds down to 10. Given 3 ints, a b c, return the sum of their rounded values. To avoid code repetition, write a separate helper \"def round10(num):\" and call it 3 times. Write the helper entirely below and at the same indent level as round_sum()."
   ]
  },
  {
   "cell_type": "code",
   "execution_count": null,
   "metadata": {},
   "outputs": [],
   "source": [
    "def round_sum(a, b, c):\n",
    "  return round10(a) + round10(b) + round10(c) \n",
    "\n",
    "def round10(num):\n",
    "  \n",
    "  if int(str(num)[-1]) < 5:\n",
    "    return num - (num % 10) \n",
    "  else:\n",
    "    return num + (10 - num%10)\n",
    "\n",
    "round_sum(16, 17, 18) #→ 60\n",
    "round_sum(12, 13, 14) #→ 30\n",
    "round_sum(6, 4, 4) #→ 10"
   ]
  },
  {
   "cell_type": "markdown",
   "metadata": {},
   "source": [
    "# close far\n",
    "Given three ints, a b c, return True if one of b or c is \"close\" (differing from a by at most 1), while the other is \"far\", differing from both other values by 2 or more. Note: abs(num) computes the absolute value of a number."
   ]
  },
  {
   "cell_type": "code",
   "execution_count": null,
   "metadata": {},
   "outputs": [],
   "source": [
    "def close_far(a, b, c):\n",
    "  \n",
    " # Check if b is \"close\" to a and c is \"far\" from both a and b\n",
    "  close_b = abs(a - b) <= 1\n",
    "  far_c = abs(a - c) >= 2 and abs(b - c) >= 2\n",
    "  \n",
    "  # Check if c is \"close\" to a and b is \"far\" from both a and c\n",
    "  close_c = abs(a - c) <= 1\n",
    "  far_b = abs(a - b) >= 2 and abs(c - b) >= 2\n",
    "  \n",
    "  # Return True if either b is close and c is far, or c is close and b is far\n",
    "  return (close_b and far_c) or (close_c and far_b)\n",
    "\n",
    "close_far(1, 2, 10) #→ True\n",
    "close_far(1, 2, 3) #→ False\n",
    "close_far(4, 1, 3) #→ True"
   ]
  },
  {
   "cell_type": "markdown",
   "metadata": {},
   "source": [
    "# make chocolate\n",
    "We want make a package of goal kilos of chocolate. We have small bars (1 kilo each) and big bars (5 kilos each). Return the number of small bars to use, assuming we always use big bars before small bars. Return -1 if it can't be done.\n",
    "\n"
   ]
  },
  {
   "cell_type": "code",
   "execution_count": null,
   "metadata": {},
   "outputs": [],
   "source": [
    "def make_chocolate(small, big, goal):\n",
    "  \n",
    "  big_used = min(big, goal//5) * 5\n",
    "  \n",
    "  remain = goal - big_used\n",
    "  \n",
    "  if remain > small:\n",
    "    return -1\n",
    "  else:\n",
    "    return remain\n",
    "    \n",
    "make_chocolate(4, 1, 9) #→ 4\n",
    "make_chocolate(4, 1, 10) #→ -1\n",
    "make_chocolate(4, 1, 7) #→ 2"
   ]
  }
 ],
 "metadata": {
  "language_info": {
   "name": "python"
  }
 },
 "nbformat": 4,
 "nbformat_minor": 2
}
