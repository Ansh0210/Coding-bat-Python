{
 "cells": [
  {
   "cell_type": "markdown",
   "metadata": {},
   "source": [
    "# hello name\n",
    "Given a string name, e.g. \"Bob\", return a greeting of the form \"Hello Bob!\"."
   ]
  },
  {
   "cell_type": "code",
   "execution_count": null,
   "metadata": {},
   "outputs": [],
   "source": [
    "def hello_name(name):\n",
    "  return \"Hello \" + name + '!'\n",
    "\n",
    "hello_name('Bob') \n",
    "hello_name('Alice') \n",
    "hello_name('X')"
   ]
  },
  {
   "cell_type": "markdown",
   "metadata": {},
   "source": [
    "# make abba\n",
    "Given two strings, a and b, return the result of putting them together in the order abba, e.g. \"Hi\" and \"Bye\" returns \"HiByeByeHi\"."
   ]
  },
  {
   "cell_type": "code",
   "execution_count": null,
   "metadata": {},
   "outputs": [],
   "source": [
    "def make_abba(a, b):\n",
    "  return a + b + b + a\n",
    "\n",
    "make_abba('Hi', 'Bye') \n",
    "make_abba('Yo', 'Alice') \n",
    "make_abba('What', 'Up') "
   ]
  },
  {
   "cell_type": "markdown",
   "metadata": {},
   "source": [
    "# make tags\n",
    "The web is built with HTML strings like \"<i>Yay</i>\" which draws Yay as italic text. In this example, the \"i\" tag makes <i> and </i> which surround the word \"Yay\". Given tag and word strings, create the HTML string with tags around the word, e.g. \"<i>Yay</i>\"."
   ]
  },
  {
   "cell_type": "code",
   "execution_count": null,
   "metadata": {},
   "outputs": [],
   "source": [
    "def make_tags(tag, word):\n",
    "  return \"<{0}>{1}</{0}>\".format(tag, word)\n",
    "\n",
    "make_tags('i', 'Yay') \n",
    "make_tags('i', 'Hello') \n",
    "make_tags('cite', 'Yay') "
   ]
  },
  {
   "cell_type": "markdown",
   "metadata": {},
   "source": [
    "# make out word\n",
    "Given an \"out\" string length 4, such as \"<<>>\", and a word, return a new string where the word is in the middle of the out string, e.g. \"<<word>>\"."
   ]
  },
  {
   "cell_type": "code",
   "execution_count": null,
   "metadata": {},
   "outputs": [],
   "source": [
    "def make_out_word(out, word):\n",
    "  \n",
    "  half_out = len(out)/2\n",
    "  \n",
    "  return out[:half_out] + word + out[half_out:]\n",
    "\n",
    "make_out_word('<<>>', 'Yay') \n",
    "make_out_word('<<>>', 'WooHoo') \n",
    "make_out_word('[[]]', 'word') \n"
   ]
  },
  {
   "cell_type": "markdown",
   "metadata": {},
   "source": [
    "# extra end\n",
    "Given a string, return a new string made of 3 copies of the last 2 chars of the original string. The string length will be at least 2."
   ]
  },
  {
   "cell_type": "code",
   "execution_count": null,
   "metadata": {},
   "outputs": [],
   "source": [
    "def extra_end(str):\n",
    "  return str[-2:]  * 3\n",
    "\n",
    "extra_end('Hello')\n",
    "extra_end('ab') \n",
    "extra_end('Hi') "
   ]
  },
  {
   "cell_type": "markdown",
   "metadata": {},
   "source": [
    "# first two\n",
    "Given a string, return the string made of its first two chars, so the String \"Hello\" yields \"He\". If the string is shorter than length 2, return whatever there is, so \"X\" yields \"X\", and the empty string \"\" yields the empty string \"\"."
   ]
  },
  {
   "cell_type": "code",
   "execution_count": null,
   "metadata": {},
   "outputs": [],
   "source": [
    "def first_two(str):\n",
    "  if len(str) < 2:\n",
    "    return str\n",
    "  return str[:2]\n",
    "\n",
    "first_two('Hello') \n",
    "first_two('abcdefg') \n",
    "first_two('ab') "
   ]
  },
  {
   "cell_type": "markdown",
   "metadata": {},
   "source": [
    "# first half\n",
    "Given a string of even length, return the first half. So the string \"WooHoo\" yields \"Woo\"."
   ]
  },
  {
   "cell_type": "code",
   "execution_count": null,
   "metadata": {},
   "outputs": [],
   "source": [
    "def first_half(str):\n",
    "  return str[:len(str)/2]\n",
    "\n",
    "first_half('WooHoo') \n",
    "first_half('HelloThere') \n",
    "first_half('abcdef') "
   ]
  }
 ],
 "metadata": {
  "language_info": {
   "name": "python"
  }
 },
 "nbformat": 4,
 "nbformat_minor": 2
}
