{
 "cells": [
  {
   "cell_type": "markdown",
   "metadata": {},
   "source": [
    "# double char\n",
    "Given a string, return a string where for every char in the original, there are two chars."
   ]
  },
  {
   "cell_type": "code",
   "execution_count": null,
   "metadata": {},
   "outputs": [],
   "source": [
    "def double_char(str):\n",
    "  \n",
    "  result = \"\"\n",
    "  \n",
    "  for char in str:\n",
    "    \n",
    "    result = result + (char*2)\n",
    "  \n",
    "  return result \n",
    "\n",
    "double_char('The') #→ 'TThhee'\n",
    "double_char('AAbb') #→ 'AAAAbbbb'\n",
    "double_char('Hi-There') #→ 'HHii--TThheerree'"
   ]
  },
  {
   "cell_type": "markdown",
   "metadata": {},
   "source": [
    "# count hi\n",
    "Return the number of times that the string \"hi\" appears anywhere in the given string.\n",
    "\n"
   ]
  },
  {
   "cell_type": "code",
   "execution_count": null,
   "metadata": {},
   "outputs": [],
   "source": [
    "def count_hi(str):\n",
    "  \n",
    "  count = 0\n",
    "  \n",
    "  for char in range(len(str)-1):\n",
    "    \n",
    "    if str[char] == 'h' and str[char+1] == 'i':\n",
    "      count += 1\n",
    "      \n",
    "  return count\n",
    "\n",
    "count_hi('abc hi ho') #→ 1\n",
    "count_hi('ABChi hi') #→ 2\n",
    "count_hi('hihi') #→ 2\n"
   ]
  },
  {
   "cell_type": "markdown",
   "metadata": {},
   "source": [
    "# cat dog\n",
    "Return True if the string \"cat\" and \"dog\" appear the same number of times in the given string.\n",
    "\n"
   ]
  },
  {
   "cell_type": "code",
   "execution_count": null,
   "metadata": {},
   "outputs": [],
   "source": [
    "def cat_dog(str):\n",
    "  \n",
    "  dog_count, cat_count = 0, 0\n",
    "  \n",
    "  for i in range(len(str)-1):\n",
    "    if str[i:i+3] == 'cat':\n",
    "      cat_count += 1\n",
    "    if str[i:i+3] == 'dog':\n",
    "      dog_count += 1\n",
    "      \n",
    "      \n",
    "  return cat_count == dog_count\n",
    "\n",
    "cat_dog('catdog') #→ True\n",
    "cat_dog('catcat') #→ False\n",
    "cat_dog('1cat1cadodog') #→ True"
   ]
  },
  {
   "cell_type": "markdown",
   "metadata": {},
   "source": [
    "# count code\n",
    "Return the number of times that the string \"code\" appears anywhere in the given string, except we'll accept any letter for the 'd', so \"cope\" and \"cooe\" count.\n",
    "\n"
   ]
  },
  {
   "cell_type": "code",
   "execution_count": null,
   "metadata": {},
   "outputs": [],
   "source": [
    "def count_code(str):\n",
    "  \n",
    "  count_code = 0\n",
    "  \n",
    "  for char in range(len(str)-1):\n",
    "    if str[char:char+2] == 'co' and str[char+3:char+4] == 'e':\n",
    "      count_code += 1\n",
    "      \n",
    "  return count_code\n",
    "\n",
    "count_code('aaacodebbb') #→ 1\n",
    "count_code('codexxcode') #→ 2\n",
    "count_code('cozexxcope') #→ 2"
   ]
  },
  {
   "cell_type": "markdown",
   "metadata": {},
   "source": [
    "# end other\n",
    "Given two strings, return True if either of the strings appears at the very end of the other string, ignoring upper/lower case differences (in other words, the computation should not be \"case sensitive\")."
   ]
  },
  {
   "cell_type": "code",
   "execution_count": null,
   "metadata": {},
   "outputs": [],
   "source": [
    "def end_other(a, b):\n",
    "  \n",
    "  return a.lower().endswith(b.lower()) or b.lower().endswith(a.lower())\n",
    "\n",
    "end_other('Hiabc', 'abc') #→ True\n",
    "end_other('AbC', 'HiaBc') #→ True\n",
    "end_other('abc', 'abXabc') #→ True"
   ]
  },
  {
   "cell_type": "markdown",
   "metadata": {},
   "source": [
    "# xyz there\n",
    "Return True if the given string contains an appearance of \"xyz\" where the xyz is not directly preceeded by a period (.). So \"xxyz\" counts but \"x.xyz\" does not."
   ]
  },
  {
   "cell_type": "code",
   "execution_count": null,
   "metadata": {},
   "outputs": [],
   "source": [
    "def xyz_there(str):\n",
    "  \n",
    "  temp_str = str.replace('.xyz', '')\n",
    "  \n",
    "  # Now, check for 'xyz' in the modified string\n",
    "  if 'xyz' in temp_str:\n",
    "      return True\n",
    "  else:\n",
    "      return False\n",
    "  \n",
    "xyz_there('abcxyz') #→ True\n",
    "xyz_there('abc.xyz') #→ False\n",
    "xyz_there('xyz.abc') #→ True"
   ]
  }
 ],
 "metadata": {
  "language_info": {
   "name": "python"
  }
 },
 "nbformat": 4,
 "nbformat_minor": 2
}
