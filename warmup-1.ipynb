{
 "cells": [
  {
   "cell_type": "markdown",
   "metadata": {},
   "source": [
    "# sleep_in\n",
    "The parameter weekday is True if it is a weekday, and the parameter vacation is True if we are on vacation. We sleep in if it is not a weekday or we're on vacation. Return True if we sleep in."
   ]
  },
  {
   "cell_type": "code",
   "execution_count": 1,
   "metadata": {},
   "outputs": [
    {
     "data": {
      "text/plain": [
       "True"
      ]
     },
     "execution_count": 1,
     "metadata": {},
     "output_type": "execute_result"
    }
   ],
   "source": [
    "def sleep_in(weekday, vacation):\n",
    "  if not weekday or vacation:\n",
    "    return True\n",
    "  return False\n",
    "\n",
    "sleep_in(False, False)\n",
    "sleep_in(True, False)\n",
    "sleep_in(False, True)"
   ]
  },
  {
   "cell_type": "markdown",
   "metadata": {},
   "source": [
    "# diff 21\n",
    "Given an int n, return the absolute difference between n and 21, except return double the absolute difference if n is over 21.\n",
    "\n"
   ]
  },
  {
   "cell_type": "code",
   "execution_count": null,
   "metadata": {},
   "outputs": [],
   "source": [
    "def diff21(n):\n",
    "  abs_diff = abs(21-n)\n",
    "  \n",
    "  if n > 21:\n",
    "    return 2*abs_diff\n",
    "  return abs_diff\n",
    "  \n",
    "diff21(19)\n",
    "diff21(10) \n",
    "diff21(21)"
   ]
  },
  {
   "cell_type": "markdown",
   "metadata": {},
   "source": [
    "# near hundred\n",
    "Given an int n, return True if it is within 10 of 100 or 200. Note: abs(num) computes the absolute value of a number."
   ]
  },
  {
   "cell_type": "code",
   "execution_count": null,
   "metadata": {},
   "outputs": [],
   "source": [
    "def near_hundred(n):\n",
    "  return abs(100 - n) <= 10 or abs(200 - n) <= 10\n",
    "\n",
    "near_hundred(93)\n",
    "near_hundred(90)\n",
    "near_hundred(80)"
   ]
  },
  {
   "cell_type": "markdown",
   "metadata": {},
   "source": [
    "# missing char\n",
    "Given a non-empty string and an int n, return a new string where the char at index n has been removed. The value of n will be a valid index of a char in the original string (i.e. n will be in the range 0..len(str)-1 inclusive)."
   ]
  },
  {
   "cell_type": "code",
   "execution_count": null,
   "metadata": {},
   "outputs": [],
   "source": [
    "def missing_char(string, n):\n",
    "  return string[:n] + string[n+1:]\n",
    "\n",
    "missing_char('kitten', 1) \n",
    "missing_char('kitten', 0) \n",
    "missing_char('kitten', 4) "
   ]
  },
  {
   "cell_type": "markdown",
   "metadata": {},
   "source": [
    "# front back\n",
    "Given a string, return a new string where the first and last chars have been exchanged."
   ]
  },
  {
   "cell_type": "code",
   "execution_count": null,
   "metadata": {},
   "outputs": [],
   "source": [
    "def front_back(string):\n",
    "  if len(string) <= 1:\n",
    "    return string\n",
    "  return \"{}{}{}\".format(string[-1], string[1:-1], string[0])\n",
    "\n",
    "front_back('code')\n",
    "front_back('a') \n",
    "front_back('ab') "
   ]
  },
  {
   "cell_type": "markdown",
   "metadata": {},
   "source": [
    "# front 3\n",
    "Given a string, we'll say that the front is the first 3 chars of the string. If the string length is less than 3, the front is whatever is there. Return a new string which is 3 copies of the front."
   ]
  },
  {
   "cell_type": "code",
   "execution_count": null,
   "metadata": {},
   "outputs": [],
   "source": [
    "def front3(str):\n",
    "  if len(str) < 3:\n",
    "    return str*3\n",
    "  return str[:3] *3\n",
    "\n",
    "front3('Java') \n",
    "front3('Chocolate') \n",
    "front3('abc') "
   ]
  },
  {
   "cell_type": "markdown",
   "metadata": {},
   "source": [
    "# monkey trouble\n",
    "We have two monkeys, a and b, and the parameters a_smile and b_smile indicate if each is smiling. We are in trouble if they are both smiling or if neither of them is smiling. Return True if we are in trouble."
   ]
  },
  {
   "cell_type": "code",
   "execution_count": null,
   "metadata": {},
   "outputs": [],
   "source": [
    "def monkey_trouble(a_smile, b_smile):\n",
    "  if (a_smile and b_smile) or not(a_smile) and not(b_smile):\n",
    "    return True\n",
    "  return False\n",
    "\n",
    "monkey_trouble(True, True) \n",
    "monkey_trouble(False, False) \n",
    "monkey_trouble(True, False) "
   ]
  },
  {
   "cell_type": "markdown",
   "metadata": {},
   "source": [
    "# sum double\n",
    "Given two int values, return their sum. Unless the two values are the same, then return double their sum."
   ]
  },
  {
   "cell_type": "code",
   "execution_count": null,
   "metadata": {},
   "outputs": [],
   "source": [
    "def sum_double(a, b):\n",
    "  if a == b:\n",
    "    return 2*(a+b)\n",
    "  return a + b\n",
    "\n",
    "sum_double(1, 2) \n",
    "sum_double(3, 2) \n",
    "sum_double(2, 2) "
   ]
  },
  {
   "cell_type": "markdown",
   "metadata": {},
   "source": [
    "# parrot trouble\n",
    "We have a loud talking parrot. The \"hour\" parameter is the current hour time in the range 0..23. We are in trouble if the parrot is talking and the hour is before 7 or after 20. Return True if we are in trouble."
   ]
  },
  {
   "cell_type": "code",
   "execution_count": null,
   "metadata": {},
   "outputs": [],
   "source": [
    "def parrot_trouble(talking, hour):\n",
    "  if talking and (hour < 7 or hour > 20):\n",
    "    return True\n",
    "  return False"
   ]
  },
  {
   "cell_type": "markdown",
   "metadata": {},
   "source": [
    "# makes 10\n",
    "Given 2 ints, a and b, return True if one if them is 10 or if their sum is 10."
   ]
  },
  {
   "cell_type": "code",
   "execution_count": null,
   "metadata": {},
   "outputs": [],
   "source": [
    "def makes10(a, b):\n",
    "  return (a == 10 or b == 10) or (a +b) == 10\n",
    "\n",
    "makes10(9, 10) \n",
    "makes10(9, 9) \n",
    "makes10(1, 9) "
   ]
  },
  {
   "cell_type": "markdown",
   "metadata": {},
   "source": [
    "# pos neg\n",
    "Given 2 int values, return True if one is negative and one is positive. Except if the parameter \"negative\" is True, then return True only if both are negative."
   ]
  },
  {
   "cell_type": "code",
   "execution_count": null,
   "metadata": {},
   "outputs": [],
   "source": [
    "def pos_neg(a, b, negative):\n",
    "  if negative:\n",
    "    if a<0 and b<0:\n",
    "      return True\n",
    "  elif (a<0 and b>0) or (a>0 and b<0):\n",
    "    return True\n",
    "  return False"
   ]
  },
  {
   "cell_type": "markdown",
   "metadata": {},
   "source": [
    "# not string\n",
    "Given a string, return a new string where \"not \" has been added to the front. However, if the string already begins with \"not\", return the string unchanged."
   ]
  },
  {
   "cell_type": "code",
   "execution_count": null,
   "metadata": {},
   "outputs": [],
   "source": [
    "def not_string(string):\n",
    "  if len(string) >= 3 and string[:3] == \"not\":\n",
    "    return string\n",
    "  return 'not {}'.format(string)\n",
    "\n",
    "not_string('candy') \n",
    "not_string('x') \n",
    "not_string('not bad') "
   ]
  }
 ],
 "metadata": {
  "kernelspec": {
   "display_name": "base",
   "language": "python",
   "name": "python3"
  },
  "language_info": {
   "codemirror_mode": {
    "name": "ipython",
    "version": 3
   },
   "file_extension": ".py",
   "mimetype": "text/x-python",
   "name": "python",
   "nbconvert_exporter": "python",
   "pygments_lexer": "ipython3",
   "version": "3.11.5"
  }
 },
 "nbformat": 4,
 "nbformat_minor": 2
}
