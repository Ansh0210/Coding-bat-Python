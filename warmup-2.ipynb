{
 "cells": [
  {
   "cell_type": "markdown",
   "metadata": {},
   "source": [
    "# string times\n",
    "Given a string and a non-negative int n, return a larger string that is n copies of the original string.\n",
    "\n"
   ]
  },
  {
   "cell_type": "code",
   "execution_count": null,
   "metadata": {},
   "outputs": [],
   "source": [
    "def string_times(str, n):\n",
    "  return str * n\n",
    "\n",
    "string_times('Hi', 2) ##→ 'HiHi'\n",
    "string_times('Hi', 3) #→ 'HiHiHi'\n",
    "string_times('Hi', 1) #→ 'Hi'"
   ]
  },
  {
   "cell_type": "markdown",
   "metadata": {},
   "source": [
    "# front times\n",
    "Given a string and a non-negative int n, we'll say that the front of the string is the first 3 chars, or whatever is there if the string is less than length 3. Return n copies of the front;"
   ]
  },
  {
   "cell_type": "code",
   "execution_count": null,
   "metadata": {},
   "outputs": [],
   "source": [
    "def front_times(str, n):\n",
    "  front_3 = 3\n",
    "  \n",
    "  if len(str) < 3:\n",
    "    return str * n\n",
    "  \n",
    "  return str[:front_3] * n\n",
    "\n",
    "front_times('Chocolate', 2) #→ 'ChoCho'\n",
    "front_times('Chocolate', 3) #→ 'ChoChoCho'\n",
    "front_times('Abc', 3) #→ 'AbcAbcAbc'\n"
   ]
  },
  {
   "cell_type": "markdown",
   "metadata": {},
   "source": [
    "# string bits\n",
    "Given a string, return a new string made of every other char starting with the first, so \"Hello\" yields \"Hlo\".\n",
    "\n"
   ]
  },
  {
   "cell_type": "code",
   "execution_count": null,
   "metadata": {},
   "outputs": [],
   "source": [
    "def string_bits(str):\n",
    "  \n",
    "  new_string = \"\"\n",
    "  for i in range(0, len(str), 2):\n",
    "    new_string += str[i]\n",
    "  \n",
    "  return new_string\n",
    "\n",
    "string_bits('Hello') #→ 'Hlo'\n",
    "string_bits('Hi') #→ 'H'\n",
    "string_bits('Heeololeo') #→ 'Hello'"
   ]
  },
  {
   "cell_type": "markdown",
   "metadata": {},
   "source": [
    "# string splosion\n",
    "Given a non-empty string like \"Code\" return a string like \"CCoCodCode\".\n",
    "\n"
   ]
  },
  {
   "cell_type": "code",
   "execution_count": null,
   "metadata": {},
   "outputs": [],
   "source": [
    "def string_splosion(str):\n",
    "  \n",
    "  new_str = \"\"\n",
    "  for i in range(len(str)):\n",
    "    new_str += str[:i+1]\n",
    "  \n",
    "  return new_str\n",
    "\n",
    "string_splosion('Code') #→ 'CCoCodCode'\n",
    "string_splosion('abc') #→ 'aababc'\n",
    "string_splosion('ab') #→ 'aab'"
   ]
  },
  {
   "cell_type": "markdown",
   "metadata": {},
   "source": [
    "# last2\n",
    "Given a string, return the count of the number of times that a substring length 2 appears in the string and also as the last 2 chars of the string, so \"hixxxhi\" yields 1 (we won't count the end substring).\n",
    "\n"
   ]
  },
  {
   "cell_type": "code",
   "execution_count": null,
   "metadata": {},
   "outputs": [],
   "source": [
    "def last2(str):\n",
    "  \n",
    "  last2_char = str[-2:]\n",
    "  count = 0\n",
    "  \n",
    "  for i in range(len(str)-2):\n",
    "    next_index = i + 1\n",
    "    if last2_char == str[i:next_index+1]:\n",
    "      count += 1\n",
    "  \n",
    "  \n",
    "  return count\n",
    "\n",
    "last2('hixxhi') #→ 1\n",
    "last2('xaxxaxaxx') #→ 1\n",
    "last2('axxxaaxx') #→ 2"
   ]
  },
  {
   "cell_type": "markdown",
   "metadata": {},
   "source": [
    "# array count9\n",
    "Given an array of ints, return the number of 9's in the array."
   ]
  },
  {
   "cell_type": "code",
   "execution_count": null,
   "metadata": {},
   "outputs": [],
   "source": [
    "def array_count9(nums):\n",
    "  count = 0\n",
    "  for i in nums:\n",
    "    if i == 9:\n",
    "      count += 1\n",
    "  return count\n",
    "\n",
    "array_count9([1, 2, 9]) #→ 1\n",
    "array_count9([1, 9, 9]) #→ 2\n",
    "array_count9([1, 9, 9, 3, 9]) #→ 3"
   ]
  },
  {
   "cell_type": "markdown",
   "metadata": {},
   "source": [
    "# array font9\n",
    "Given an array of ints, return True if one of the first 4 elements in the array is a 9. The array length may be less than 4.\n",
    "\n"
   ]
  },
  {
   "cell_type": "code",
   "execution_count": 8,
   "metadata": {},
   "outputs": [
    {
     "name": "stdout",
     "output_type": "stream",
     "text": [
      "True\n",
      "False\n",
      "False\n"
     ]
    }
   ],
   "source": [
    "def array_front9(nums):\n",
    "  \n",
    "  if 9 in nums[:4]:\n",
    "    return True\n",
    "  return False\n",
    "\n",
    "print(array_front9([1, 2, 9, 3, 4])) #→ True\n",
    "print(array_front9([1, 2, 3, 4, 9])) #→ False\n",
    "print(array_front9([1, 2, 3, 4, 5])) #→ False\n"
   ]
  },
  {
   "cell_type": "markdown",
   "metadata": {},
   "source": [
    "# array123\n",
    "Given an array of ints, return True if the sequence of numbers 1, 2, 3 appears in the array somewhere.\n",
    "\n"
   ]
  },
  {
   "cell_type": "code",
   "execution_count": 6,
   "metadata": {},
   "outputs": [
    {
     "data": {
      "text/plain": [
       "True"
      ]
     },
     "execution_count": 6,
     "metadata": {},
     "output_type": "execute_result"
    }
   ],
   "source": [
    "def array123(nums):\n",
    "  \n",
    "  list_string = ''.join(str(num) for num in nums)\n",
    "  return '123' in list_string\n",
    " \n",
    "# different way to solve the same problem  \n",
    "#   for i in range(len(nums)-2):\n",
    "#     if nums[i] == 1 and nums[i + 1] == 2 and nums[i + 2] == 3:\n",
    "#       return True\n",
    "#   return False\n",
    "\n",
    "array123([1, 1, 2, 3, 1]) #→ True\n",
    "array123([1, 1, 2, 4, 1]) #→ False\n",
    "array123([1, 1, 2, 1, 2, 3]) #→ True"
   ]
  },
  {
   "cell_type": "markdown",
   "metadata": {},
   "source": [
    "# string match\n",
    "Given 2 strings, a and b, return the number of the positions where they contain the same length 2 substring. So \"xxcaazz\" and \"xxbaaz\" yields 3, since the \"xx\", \"aa\", and \"az\" substrings appear in the same place in both strings.\n",
    "\n"
   ]
  },
  {
   "cell_type": "code",
   "execution_count": null,
   "metadata": {},
   "outputs": [],
   "source": [
    "def string_match(a, b):\n",
    "  \n",
    "  short_str = min(a, b)\n",
    "  count = 0\n",
    "  \n",
    "  for i in range(len(short_str)-1):\n",
    "    if a[i:i+2] == b[i:i+2]:\n",
    "      count += 1\n",
    "      \n",
    "  return count\n",
    "    \n",
    "string_match('xxcaazz', 'xxbaaz') #→ 3\n",
    "string_match('abc', 'abc') #→ 2\n",
    "string_match('abc', 'axc') #→ 0"
   ]
  },
  {
   "cell_type": "markdown",
   "metadata": {},
   "source": []
  }
 ],
 "metadata": {
  "kernelspec": {
   "display_name": "base",
   "language": "python",
   "name": "python3"
  },
  "language_info": {
   "codemirror_mode": {
    "name": "ipython",
    "version": 3
   },
   "file_extension": ".py",
   "mimetype": "text/x-python",
   "name": "python",
   "nbconvert_exporter": "python",
   "pygments_lexer": "ipython3",
   "version": "3.11.5"
  }
 },
 "nbformat": 4,
 "nbformat_minor": 2
}
